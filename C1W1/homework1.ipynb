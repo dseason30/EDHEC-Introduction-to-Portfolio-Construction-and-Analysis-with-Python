{
 "cells": [
  {
   "cell_type": "code",
   "execution_count": 57,
   "id": "968d9b78",
   "metadata": {},
   "outputs": [
    {
     "data": {
      "text/html": [
       "<div>\n",
       "<style scoped>\n",
       "    .dataframe tbody tr th:only-of-type {\n",
       "        vertical-align: middle;\n",
       "    }\n",
       "\n",
       "    .dataframe tbody tr th {\n",
       "        vertical-align: top;\n",
       "    }\n",
       "\n",
       "    .dataframe thead th {\n",
       "        text-align: right;\n",
       "    }\n",
       "</style>\n",
       "<table border=\"1\" class=\"dataframe\">\n",
       "  <thead>\n",
       "    <tr style=\"text-align: right;\">\n",
       "      <th></th>\n",
       "      <th>Lo 20</th>\n",
       "      <th>Hi 20</th>\n",
       "    </tr>\n",
       "  </thead>\n",
       "  <tbody>\n",
       "    <tr>\n",
       "      <th>199901</th>\n",
       "      <td>0.1114</td>\n",
       "      <td>0.0153</td>\n",
       "    </tr>\n",
       "    <tr>\n",
       "      <th>199902</th>\n",
       "      <td>-0.0399</td>\n",
       "      <td>-0.0172</td>\n",
       "    </tr>\n",
       "    <tr>\n",
       "      <th>199903</th>\n",
       "      <td>-0.0308</td>\n",
       "      <td>0.0368</td>\n",
       "    </tr>\n",
       "    <tr>\n",
       "      <th>199904</th>\n",
       "      <td>0.0824</td>\n",
       "      <td>0.0679</td>\n",
       "    </tr>\n",
       "    <tr>\n",
       "      <th>199905</th>\n",
       "      <td>0.0435</td>\n",
       "      <td>-0.0048</td>\n",
       "    </tr>\n",
       "    <tr>\n",
       "      <th>...</th>\n",
       "      <td>...</td>\n",
       "      <td>...</td>\n",
       "    </tr>\n",
       "    <tr>\n",
       "      <th>201508</th>\n",
       "      <td>-0.0347</td>\n",
       "      <td>-0.0559</td>\n",
       "    </tr>\n",
       "    <tr>\n",
       "      <th>201509</th>\n",
       "      <td>-0.0610</td>\n",
       "      <td>-0.0333</td>\n",
       "    </tr>\n",
       "    <tr>\n",
       "      <th>201510</th>\n",
       "      <td>0.0385</td>\n",
       "      <td>0.0710</td>\n",
       "    </tr>\n",
       "    <tr>\n",
       "      <th>201511</th>\n",
       "      <td>0.0165</td>\n",
       "      <td>0.0015</td>\n",
       "    </tr>\n",
       "    <tr>\n",
       "      <th>201512</th>\n",
       "      <td>-0.0500</td>\n",
       "      <td>-0.0229</td>\n",
       "    </tr>\n",
       "  </tbody>\n",
       "</table>\n",
       "<p>204 rows × 2 columns</p>\n",
       "</div>"
      ],
      "text/plain": [
       "         Lo 20   Hi 20\n",
       "199901  0.1114  0.0153\n",
       "199902 -0.0399 -0.0172\n",
       "199903 -0.0308  0.0368\n",
       "199904  0.0824  0.0679\n",
       "199905  0.0435 -0.0048\n",
       "...        ...     ...\n",
       "201508 -0.0347 -0.0559\n",
       "201509 -0.0610 -0.0333\n",
       "201510  0.0385  0.0710\n",
       "201511  0.0165  0.0015\n",
       "201512 -0.0500 -0.0229\n",
       "\n",
       "[204 rows x 2 columns]"
      ]
     },
     "execution_count": 57,
     "metadata": {},
     "output_type": "execute_result"
    }
   ],
   "source": [
    "import pandas as pd\n",
    "import numpy as np\n",
    "prices = pd.read_csv('D:/jupyter notebook/EDHEC/Files/home/jovyan/work/data/Portfolios_Formed_on_ME_monthly_EW.csv ',header=0, index_col=0)\n",
    "rets = prices[['Lo 20', 'Hi 20']]\n",
    "rets1 = rets/100\n",
    "# rets1\n",
    "rets2 = rets1.loc['199901':'201512']\n",
    "rets2\n",
    "# annualized_vol = rets2.std()*np.sqrt(12)\n",
    "# annualized_vol"
   ]
  },
  {
   "cell_type": "code",
   "execution_count": 85,
   "id": "17f34b2d",
   "metadata": {},
   "outputs": [
    {
     "data": {
      "text/plain": [
       "Wealth            721.706638\n",
       "Previous Peak    1015.300000\n",
       "Drawdown           -0.552735\n",
       "dtype: float64"
      ]
     },
     "execution_count": 85,
     "metadata": {},
     "output_type": "execute_result"
    }
   ],
   "source": [
    "def drawdown(return_series: pd.Series):\n",
    "    \"\"\"Takes a time series of asset returns.\n",
    "       returns a DataFrame with columns for\n",
    "       the wealth index, \n",
    "       the previous peaks, and \n",
    "       the percentage drawdown\n",
    "    \"\"\"\n",
    "    wealth_index = 1000*(1+return_series).cumprod()\n",
    "    previous_peaks = wealth_index.cummax()\n",
    "    drawdowns = (wealth_index - previous_peaks)/previous_peaks\n",
    "    return pd.DataFrame({\"Wealth\": wealth_index, \n",
    "                         \"Previous Peak\": previous_peaks, \n",
    "                         \"Drawdown\": drawdowns})\n",
    "\n",
    "# drawdown(rets1[\"Lo 20\"]).plot()\n",
    "# drawdown(rets2[\"Lo 20\"]).min()\n",
    "drawdown(rets2[\"Hi 20\"]).min()"
   ]
  },
  {
   "cell_type": "code",
   "execution_count": 66,
   "id": "dd3e12bc",
   "metadata": {},
   "outputs": [
    {
     "data": {
      "text/plain": [
       "193205"
      ]
     },
     "execution_count": 66,
     "metadata": {},
     "output_type": "execute_result"
    }
   ],
   "source": [
    "drawdown(rets1[\"Hi 20\"])[\"Drawdown\"].idxmin()"
   ]
  },
  {
   "cell_type": "code",
   "execution_count": 46,
   "id": "137e1ade",
   "metadata": {},
   "outputs": [
    {
     "data": {
      "text/plain": [
       "Lo 20    0.151977\n",
       "Hi 20    0.098490\n",
       "dtype: float64"
      ]
     },
     "execution_count": 46,
     "metadata": {},
     "output_type": "execute_result"
    }
   ],
   "source": [
    "n_months = rets1.shape[0]\n",
    "return_per_month = (rets1+1).prod()**(1/n_months) - 1\n",
    "annualized_return = (return_per_month + 1)**12-1\n",
    "annualized_return = (rets1+1).prod()**(12/n_months) - 1\n",
    "annualized_return"
   ]
  },
  {
   "cell_type": "code",
   "execution_count": 48,
   "id": "4a327938",
   "metadata": {},
   "outputs": [
    {
     "data": {
      "text/plain": [
       "Lo 20    0.114426\n",
       "Hi 20    0.062865\n",
       "dtype: float64"
      ]
     },
     "execution_count": 48,
     "metadata": {},
     "output_type": "execute_result"
    }
   ],
   "source": [
    "n_months = rets2.shape[0]\n",
    "return_per_month = (rets2+1).prod()**(1/n_months) - 1\n",
    "annualized_return = (return_per_month + 1)**12-1\n",
    "annualized_return = (rets2+1).prod()**(12/n_months) - 1\n",
    "annualized_return"
   ]
  },
  {
   "cell_type": "code",
   "execution_count": 77,
   "id": "dd8c2f39",
   "metadata": {},
   "outputs": [],
   "source": [
    "import pandas as pd\n",
    "import numpy as np\n",
    "prices = pd.read_csv('D:/jupyter notebook/EDHEC/Files/home/jovyan/work/data/edhec-hedgefundindices.csv',header=0, index_col=0)\n",
    "# prices\n",
    "prices1 = prices.loc['31/12/2008':'30/11/2018']\n",
    "prices1\n",
    "prices2 = prices.loc['31/12/1999':'30/11/2018']"
   ]
  },
  {
   "cell_type": "code",
   "execution_count": 76,
   "id": "f666f739",
   "metadata": {},
   "outputs": [
    {
     "data": {
      "text/plain": [
       "Equity Market Neutral    -0.890776\n",
       "Funds Of Funds           -0.621765\n",
       "Merger Arbitrage         -0.517616\n",
       "Event Driven             -0.470052\n",
       "Long/Short Equity        -0.469743\n",
       "Distressed Securities    -0.243860\n",
       "CTA Global                0.037531\n",
       "Emerging Markets          0.039715\n",
       "Relative Value            0.166604\n",
       "Global Macro              0.329926\n",
       "Short Selling             0.461450\n",
       "Fixed Income Arbitrage    1.122714\n",
       "Convertible Arbitrage     1.284789\n",
       "dtype: float64"
      ]
     },
     "execution_count": 76,
     "metadata": {},
     "output_type": "execute_result"
    }
   ],
   "source": [
    "def skewness(r):\n",
    "    \"\"\"\n",
    "    Alternative to scipy.stats.skew()\n",
    "    Computes the skewness of the supplied Series or DataFrame\n",
    "    Returns a float or a Series\n",
    "    \"\"\"\n",
    "    demeaned_r = r - r.mean()\n",
    "    # use the population standard deviation, so set dof=0\n",
    "    sigma_r = r.std(ddof=0)\n",
    "    exp = (demeaned_r**3).mean()\n",
    "    return exp/sigma_r**3\n",
    "\n",
    "skewness(prices1).sort_values()"
   ]
  },
  {
   "cell_type": "code",
   "execution_count": 78,
   "id": "73c074e0",
   "metadata": {},
   "outputs": [
    {
     "data": {
      "text/plain": [
       "CTA Global                 2.851154\n",
       "Short Selling              4.330888\n",
       "Merger Arbitrage           4.536763\n",
       "Global Macro               4.666646\n",
       "Long/Short Equity          4.751460\n",
       "Event Driven               5.510284\n",
       "Distressed Securities      6.190778\n",
       "Emerging Markets           6.412693\n",
       "Funds Of Funds             7.819005\n",
       "Relative Value            12.683579\n",
       "Equity Market Neutral     19.849772\n",
       "Convertible Arbitrage     23.071052\n",
       "Fixed Income Arbitrage    33.480930\n",
       "dtype: float64"
      ]
     },
     "execution_count": 78,
     "metadata": {},
     "output_type": "execute_result"
    }
   ],
   "source": [
    "def kurtosis(r):\n",
    "    \"\"\"\n",
    "    Alternative to scipy.stats.kurtosis()\n",
    "    Computes the kurtosis of the supplied Series or DataFrame\n",
    "    Returns a float or a Series\n",
    "    \"\"\"\n",
    "    demeaned_r = r - r.mean()\n",
    "    # use the population standard deviation, so set dof=0\n",
    "    sigma_r = r.std(ddof=0)\n",
    "    exp = (demeaned_r**4).mean()\n",
    "    return exp/sigma_r**4\n",
    "\n",
    "kurtosis(prices2).sort_values()"
   ]
  },
  {
   "cell_type": "code",
   "execution_count": 79,
   "id": "c156bf33",
   "metadata": {},
   "outputs": [],
   "source": [
    "def semideviation(r):\n",
    "    \"\"\"\n",
    "    Returns the semideviation aka negative semideviation of r\n",
    "    r must be a Series or a DataFrame, else raises a TypeError\n",
    "    \"\"\"\n",
    "    is_negative = r < 0\n",
    "    return r[is_negative].std(ddof=0)"
   ]
  },
  {
   "cell_type": "code",
   "execution_count": 83,
   "id": "b35c1544",
   "metadata": {},
   "outputs": [
    {
     "data": {
      "text/plain": [
       "Fixed Income Arbitrage    0.325222\n",
       "Merger Arbitrage          0.361121\n",
       "Global Macro              0.507508\n",
       "Equity Market Neutral     0.518610\n",
       "Relative Value            0.571123\n",
       "Convertible Arbitrage     0.668103\n",
       "Funds Of Funds            0.786479\n",
       "Distressed Securities     0.946711\n",
       "Event Driven              1.002354\n",
       "CTA Global                1.099578\n",
       "Long/Short Equity         1.213857\n",
       "Emerging Markets          1.529747\n",
       "Short Selling             2.117289\n",
       "dtype: float64"
      ]
     },
     "execution_count": 83,
     "metadata": {},
     "output_type": "execute_result"
    }
   ],
   "source": [
    "semideviation(prices1).sort_values()"
   ]
  },
  {
   "cell_type": "code",
   "execution_count": null,
   "id": "5267f9b4",
   "metadata": {},
   "outputs": [],
   "source": []
  }
 ],
 "metadata": {
  "kernelspec": {
   "display_name": "Python 3 (ipykernel)",
   "language": "python",
   "name": "python3"
  },
  "language_info": {
   "codemirror_mode": {
    "name": "ipython",
    "version": 3
   },
   "file_extension": ".py",
   "mimetype": "text/x-python",
   "name": "python",
   "nbconvert_exporter": "python",
   "pygments_lexer": "ipython3",
   "version": "3.11.5"
  }
 },
 "nbformat": 4,
 "nbformat_minor": 5
}
