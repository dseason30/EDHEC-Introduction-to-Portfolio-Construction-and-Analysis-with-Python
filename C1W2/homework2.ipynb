{
 "cells": [
  {
   "cell_type": "markdown",
   "id": "ed11209c",
   "metadata": {},
   "source": [
    "# 1"
   ]
  },
  {
   "cell_type": "code",
   "execution_count": 92,
   "id": "ae4cca21",
   "metadata": {},
   "outputs": [
    {
     "name": "stdout",
     "output_type": "stream",
     "text": [
      "The autoreload extension is already loaded. To reload it, use:\n",
      "  %reload_ext autoreload\n"
     ]
    },
    {
     "name": "stderr",
     "output_type": "stream",
     "text": [
      "D:\\jupyter notebook\\EDHEC\\Files\\home\\jovyan\\work\\myself\\C1W2\\edhec_risk_kit_111.py:21: UserWarning: Parsing dates in %d/%m/%Y format when dayfirst=False (the default) was specified. Pass `dayfirst=True` or specify a format to silence this warning.\n",
      "  hfi = pd.read_csv(\"D:/jupyter notebook/EDHEC/Files/home/jovyan/work/data/edhec-hedgefundindices.csv\",\n"
     ]
    },
    {
     "data": {
      "text/plain": [
       "0.03143017693928047"
      ]
     },
     "execution_count": 92,
     "metadata": {},
     "output_type": "execute_result"
    }
   ],
   "source": [
    "%load_ext autoreload\n",
    "%autoreload 2\n",
    "%matplotlib inline\n",
    "import edhec_risk_kit_111 as erk\n",
    "import numpy as np\n",
    "\n",
    "hfi = erk.get_hfi_returns()\n",
    "hfi[\"2000\":]\n",
    "v1 = erk.var_gaussian(hfi[\"2000\":], level=1,modified=False)\n",
    "v1[\"Distressed Securities\"]\n",
    "# er = erk.annualize_rets(hfi[\"2000\":], 12)\n",
    "# cov = ind[\"1996\":\"2000\"].cov()"
   ]
  },
  {
   "cell_type": "code",
   "execution_count": 93,
   "id": "9437ca29",
   "metadata": {},
   "outputs": [
    {
     "data": {
      "text/plain": [
       "0.0496690911062792"
      ]
     },
     "execution_count": 93,
     "metadata": {},
     "output_type": "execute_result"
    }
   ],
   "source": [
    "v2 = erk.var_gaussian(hfi[\"2000\":], level=1,modified=True)\n",
    "v2[\"Distressed Securities\"]"
   ]
  },
  {
   "cell_type": "code",
   "execution_count": 94,
   "id": "a78ad566",
   "metadata": {},
   "outputs": [
    {
     "data": {
      "text/plain": [
       "0.04264199999999999"
      ]
     },
     "execution_count": 94,
     "metadata": {},
     "output_type": "execute_result"
    }
   ],
   "source": [
    "v3 = erk.var_historic(hfi[\"2000\":], level=1)\n",
    "v3[\"Distressed Securities\"]"
   ]
  },
  {
   "cell_type": "markdown",
   "id": "34728f65",
   "metadata": {},
   "source": [
    "# 2"
   ]
  },
  {
   "cell_type": "code",
   "execution_count": 70,
   "id": "43ed54bf",
   "metadata": {
    "scrolled": true
   },
   "outputs": [],
   "source": [
    "ind = erk.get_ind_returns()\n",
    "ind1 = ind[\"2013\":\"2017\"]\n",
    "er = erk.annualize_rets(ind[\"2013\":\"2017\"], 12)\n",
    "cov = ind[\"2013\":\"2017\"].cov()"
   ]
  },
  {
   "cell_type": "code",
   "execution_count": 66,
   "id": "a12913b8",
   "metadata": {},
   "outputs": [],
   "source": [
    "import numpy as np\n",
    "np.set_printoptions(suppress=True)\n",
    "l=[\"Books\", \"Steel\", \"Oil\", \"Mines\"]\n",
    "w_msr = erk.msr(0.1,np.array(er[l]),cov.loc[l,l])"
   ]
  },
  {
   "cell_type": "code",
   "execution_count": 55,
   "id": "7978e1e1",
   "metadata": {},
   "outputs": [],
   "source": [
    "n = er[l].shape[0]"
   ]
  },
  {
   "cell_type": "code",
   "execution_count": 63,
   "id": "f49e7dad",
   "metadata": {},
   "outputs": [
    {
     "data": {
      "text/plain": [
       "array([0.25, 0.25, 0.25, 0.25])"
      ]
     },
     "execution_count": 63,
     "metadata": {},
     "output_type": "execute_result"
    }
   ],
   "source": [
    "n = er[l].shape[0]\n",
    "w_ew = np.repeat(1/n, n)\n",
    "r_ew = erk.portfolio_return(w_ew, er[l])\n",
    "vol_ew = erk.portfolio_vol(w_ew, cov.loc[l,l])\n",
    "w_ew"
   ]
  },
  {
   "cell_type": "code",
   "execution_count": 75,
   "id": "ab16b888",
   "metadata": {},
   "outputs": [],
   "source": [
    "w_gmv = erk.gmv(cov.loc[l,l])"
   ]
  },
  {
   "cell_type": "markdown",
   "id": "3c4969bb",
   "metadata": {},
   "source": [
    "# 3"
   ]
  },
  {
   "cell_type": "code",
   "execution_count": 84,
   "id": "4e9b29a7",
   "metadata": {},
   "outputs": [
    {
     "data": {
      "text/plain": [
       "0.21983988181484238"
      ]
     },
     "execution_count": 84,
     "metadata": {},
     "output_type": "execute_result"
    }
   ],
   "source": [
    "vol1 = erk.portfolio_vol(w_msr,ind[\"2018\":][l].cov())\n",
    "vol1 * np.sqrt(12)"
   ]
  },
  {
   "cell_type": "code",
   "execution_count": 85,
   "id": "3c5270d9",
   "metadata": {},
   "outputs": [
    {
     "data": {
      "text/plain": [
       "0.18973734648725749"
      ]
     },
     "execution_count": 85,
     "metadata": {},
     "output_type": "execute_result"
    }
   ],
   "source": [
    "vol2 = erk.portfolio_vol(w_gmv,ind[\"2018\":][l].cov())\n",
    "vol2 * np.sqrt(12)"
   ]
  },
  {
   "cell_type": "code",
   "execution_count": null,
   "id": "319436e7",
   "metadata": {},
   "outputs": [],
   "source": []
  }
 ],
 "metadata": {
  "kernelspec": {
   "display_name": "Python 3 (ipykernel)",
   "language": "python",
   "name": "python3"
  },
  "language_info": {
   "codemirror_mode": {
    "name": "ipython",
    "version": 3
   },
   "file_extension": ".py",
   "mimetype": "text/x-python",
   "name": "python",
   "nbconvert_exporter": "python",
   "pygments_lexer": "ipython3",
   "version": "3.11.5"
  }
 },
 "nbformat": 4,
 "nbformat_minor": 5
}
